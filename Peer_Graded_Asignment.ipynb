{
 "cells": [
  {
   "cell_type": "markdown",
   "metadata": {},
   "source": [
    "<center>\n",
    "    <img src=\"https://cf-courses-data.s3.us.cloud-object-storage.appdomain.cloud/IBMDeveloperSkillsNetwork-DS0105EN-SkillsNetwork/labs/Module2/images/SN_web_lightmode.png\" width=\"300\" alt=\"cognitiveclass.ai logo\">\n",
    "</center>\n"
   ]
  },
  {
   "cell_type": "markdown",
   "metadata": {},
   "source": [
    "#### Add your code below following the instructions given in the course\n"
   ]
  },
  {
   "cell_type": "markdown",
   "metadata": {
    "tags": []
   },
   "source": [
    "<h1>My Jupyter Notebook on IBM Watson Studio</h1>"
   ]
  },
  {
   "cell_type": "markdown",
   "metadata": {},
   "source": [
    "**Faizan Ansari**\n",
    "<br>\n",
    "I am a Student, and I want to be a Data Scientist!"
   ]
  },
  {
   "cell_type": "markdown",
   "metadata": {},
   "source": [
    "*I am interested in data science because, I love to gains valuable insights from the Data! And I am also a highly curious person to know the facts behind the scenes.*"
   ]
  },
  {
   "cell_type": "markdown",
   "metadata": {},
   "source": [
    "<h3> In Below Cell-5 Arithmatic Calculations are performed</h3>"
   ]
  },
  {
   "cell_type": "code",
   "execution_count": 10,
   "metadata": {},
   "outputs": [
    {
     "name": "stdout",
     "output_type": "stream",
     "text": [
      "Addition:30\n",
      "Multiplication:200\n",
      "Substraction:10\n",
      "Division:2.0\n"
     ]
    }
   ],
   "source": [
    "a=20\n",
    "b=10\n",
    "print(f\"Addition:{a+b}\")\n",
    "print(f\"Multiplication:{a*b}\")\n",
    "print(f\"Substraction:{a-b}\")\n",
    "print(f\"Division:{a/b}\")"
   ]
  },
  {
   "cell_type": "markdown",
   "metadata": {},
   "source": [
    "<h3> 1)Bulleted List</h3>\n",
    "<ul>\n",
    "  <li>Data Scientist</li>\n",
    "  <li>Data Analyst</li>\n",
    "  <li>Data Engineer</li>\n",
    "</ul>\n",
    "\n",
    "\n",
    "<h3>2)Tables</h3>\n",
    "<table style=\"width:100%\">\n",
    "  <tr>\n",
    "    <th>Company</th>\n",
    "    <th>Job Role</th>\n",
    "    <th>Country</th>\n",
    "  </tr>\n",
    "  <tr>\n",
    "    <td>IBM</td>\n",
    "    <td>Data Scientist</td>\n",
    "    <td>India</td>\n",
    "  </tr>\n",
    "  <tr>\n",
    "    <td>Google</td>\n",
    "    <td>Data Analyst</td>\n",
    "    <td>USA</td>\n",
    "  </tr>\n",
    "     <tr>\n",
    "    <td>Microsoft</td>\n",
    "    <td>Data Engineer</td>\n",
    "    <td>Mexico</td>\n",
    "  </tr>\n",
    "</table>\n",
    "\n",
    "\n",
    "<h3>3)Hyper Link: <a href=\"https://dataplatform.cloud.ibm.com/gallery\">IBM Cloud Gallery</a> </h3>"
   ]
  }
 ],
 "metadata": {
  "kernelspec": {
   "display_name": "Python",
   "language": "python",
   "name": "conda-env-python-py"
  },
  "language_info": {
   "codemirror_mode": {
    "name": "ipython",
    "version": 3
   },
   "file_extension": ".py",
   "mimetype": "text/x-python",
   "name": "python",
   "nbconvert_exporter": "python",
   "pygments_lexer": "ipython3",
   "version": "3.7.12"
  }
 },
 "nbformat": 4,
 "nbformat_minor": 4
}
